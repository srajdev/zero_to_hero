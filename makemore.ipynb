{
 "cells": [
  {
   "cell_type": "code",
   "execution_count": 71,
   "id": "4c482e27-04c9-4422-a347-e4eac0e40c47",
   "metadata": {},
   "outputs": [],
   "source": [
    "import os\n",
    "import string\n",
    "\n",
    "import torch"
   ]
  },
  {
   "cell_type": "markdown",
   "id": "3b59d0e1-f4a9-42e1-b1d3-b873841d3632",
   "metadata": {},
   "source": [
    "1. read names.txt\n",
    "2. add . at beginning and end\n",
    "3. create bigrams (i, i+1) into a dictionary and update count\n",
    "4. create a matrix (in torch) with first letter on rows and second letter on columns and create a count\n",
    "5. convert the count to probability\n",
    "6. create a name using probabilistci distribution"
   ]
  },
  {
   "cell_type": "code",
   "execution_count": 72,
   "id": "be9c55fc-726d-42f3-b087-cdc8e7bd3908",
   "metadata": {},
   "outputs": [],
   "source": [
    "\n",
    "words = open('names.txt', 'r').read().splitlines()\n",
    "\n",
    "with open(\"names.txt\", 'r') as file:\n",
    "    names = file.readlines()\n",
    "\n",
    "bigram_count = {}\n",
    "\n",
    "for n in names:\n",
    "    n = \".\" + n.strip() + \".\"\n",
    "    for i in range(len(n.strip()) - 1):\n",
    "        bigram_string = \"%s%s\" % (n[i], n[i+1])\n",
    "        bigram_count[bigram_string] = bigram_count.get(bigram_string, 0) + 1\n",
    "    "
   ]
  },
  {
   "cell_type": "code",
   "execution_count": 73,
   "id": "f5e5140c-969a-4b3c-9158-c3770df6406c",
   "metadata": {},
   "outputs": [],
   "source": [
    "itos = {}\n",
    "stoi = {}\n",
    "\n",
    "stoi['.'] = 0\n",
    "itos[0] = '.'\n",
    "for i,l in enumerate(sorted(list(set(string.ascii_letters.lower())))):\n",
    "    itos[i+1] = l\n",
    "    stoi[l] = i+1"
   ]
  },
  {
   "cell_type": "code",
   "execution_count": 74,
   "id": "841e0cdf-9b0e-4500-9a57-ef93a43447b5",
   "metadata": {},
   "outputs": [
    {
     "name": "stdout",
     "output_type": "stream",
     "text": [
      "tensor([[   0, 4410, 1306, 1542, 1690, 1531,  417,  669,  874,  591, 2422, 2963,\n",
      "         1572, 2538, 1146,  394,  515,   92, 1639, 2055, 1308,   78,  376,  307,\n",
      "          134,  535,  929],\n",
      "        [6640,  556,  541,  470, 1042,  692,  134,  168, 2332, 1650,  175,  568,\n",
      "         2528, 1634, 5438,   63,   82,   60, 3264, 1118,  687,  381,  834,  161,\n",
      "          182, 2050,  435],\n",
      "        [ 114,  321,   38,    1,   65,  655,    0,    0,   41,  217,    1,    0,\n",
      "          103,    0,    4,  105,    0,    0,  842,    8,    2,   45,    0,    0,\n",
      "            0,   83,    0],\n",
      "        [  97,  815,    0,   42,    1,  551,    0,    2,  664,  271,    3,  316,\n",
      "          116,    0,    0,  380,    1,   11,   76,    5,   35,   35,    0,    0,\n",
      "            3,  104,    4],\n",
      "        [ 516, 1303,    1,    3,  149, 1283,    5,   25,  118,  674,    9,    3,\n",
      "           60,   30,   31,  378,    0,    1,  424,   29,    4,   92,   17,   23,\n",
      "            0,  317,    1],\n",
      "        [3983,  679,  121,  153,  384, 1271,   82,  125,  152,  818,   55,  178,\n",
      "         3248,  769, 2675,  269,   83,   14, 1958,  861,  580,   69,  463,   50,\n",
      "          132, 1070,  181],\n",
      "        [  80,  242,    0,    0,    0,  123,   44,    1,    1,  160,    0,    2,\n",
      "           20,    0,    4,   60,    0,    0,  114,    6,   18,   10,    0,    4,\n",
      "            0,   14,    2],\n",
      "        [ 108,  330,    3,    0,   19,  334,    1,   25,  360,  190,    3,    0,\n",
      "           32,    6,   27,   83,    0,    0,  201,   30,   31,   85,    1,   26,\n",
      "            0,   31,    1],\n",
      "        [2409, 2244,    8,    2,   24,  674,    2,    2,    1,  729,    9,   29,\n",
      "          185,  117,  138,  287,    1,    1,  204,   31,   71,  166,   39,   10,\n",
      "            0,  213,   20],\n",
      "        [2489, 2445,  110,  509,  440, 1653,  101,  428,   95,   82,   76,  445,\n",
      "         1345,  427, 2126,  588,   53,   52,  849, 1316,  541,  109,  269,    8,\n",
      "           89,  779,  277],\n",
      "        [  71, 1473,    1,    4,    4,  440,    0,    0,   45,  119,    2,    2,\n",
      "            9,    5,    2,  479,    1,    0,   11,    7,    2,  202,    5,    6,\n",
      "            0,   10,    0],\n",
      "        [ 363, 1731,    2,    2,    2,  895,    1,    0,  307,  509,    2,   20,\n",
      "          139,    9,   26,  344,    0,    0,  109,   95,   17,   50,    2,   34,\n",
      "            0,  379,    2],\n",
      "        [1314, 2623,   52,   25,  138, 2921,   22,    6,   19, 2480,    6,   24,\n",
      "         1345,   60,   14,  692,   15,    3,   18,   94,   77,  324,   72,   16,\n",
      "            0, 1588,   10],\n",
      "        [ 516, 2590,  112,   51,   24,  818,    1,    0,    5, 1256,    7,    1,\n",
      "            5,  168,   20,  452,   38,    0,   97,   35,    4,  139,    3,    2,\n",
      "            0,  287,   11],\n",
      "        [6763, 2977,    8,  213,  704, 1359,   11,  273,   26, 1725,   44,   58,\n",
      "          195,   19, 1906,  496,    5,    2,   44,  278,  443,   96,   55,   11,\n",
      "            6,  465,  145],\n",
      "        [ 855,  149,  140,  114,  190,  132,   34,   44,  171,   69,   16,   68,\n",
      "          619,  261, 2411,  115,   95,    3, 1059,  504,  118,  275,  176,  114,\n",
      "           45,  103,   54],\n",
      "        [  33,  209,    2,    1,    0,  197,    1,    0,  204,   61,    1,    1,\n",
      "           16,    1,    1,   59,   39,    0,  151,   16,   17,    4,    0,    0,\n",
      "            0,   12,    0],\n",
      "        [  28,   13,    0,    0,    0,    1,    0,    0,    0,   13,    0,    0,\n",
      "            1,    2,    0,    2,    0,    0,    1,    2,    0,  206,    0,    3,\n",
      "            0,    0,    0],\n",
      "        [1377, 2356,   41,   99,  187, 1697,    9,   76,  121, 3033,   25,   90,\n",
      "          413,  162,  140,  869,   14,   16,  425,  190,  208,  252,   80,   21,\n",
      "            3,  773,   23],\n",
      "        [1169, 1201,   21,   60,    9,  884,    2,    2, 1285,  684,    2,   82,\n",
      "          279,   90,   24,  531,   51,    1,   55,  461,  765,  185,   14,   24,\n",
      "            0,  215,   10],\n",
      "        [ 483, 1027,    1,   17,    0,  716,    2,    2,  647,  532,    3,    0,\n",
      "          134,    4,   22,  667,    0,    0,  352,   35,  374,   78,   15,   11,\n",
      "            2,  341,  105],\n",
      "        [ 155,  163,  103,  103,  136,  169,   19,   47,   58,  121,   14,   93,\n",
      "          301,  154,  275,   10,   16,   10,  414,  474,   82,    3,   37,   86,\n",
      "           34,   13,   45],\n",
      "        [  88,  642,    1,    0,    1,  568,    0,    0,    1,  911,    0,    3,\n",
      "           14,    0,    8,  153,    0,    0,   48,    0,    0,    7,    7,    0,\n",
      "            0,  121,    0],\n",
      "        [  51,  280,    1,    0,    8,  149,    2,    1,   23,  148,    0,    6,\n",
      "           13,    2,   58,   36,    0,    0,   22,   20,    8,   25,    0,    2,\n",
      "            0,   73,    1],\n",
      "        [ 164,  103,    1,    4,    5,   36,    3,    0,    1,  102,    0,    0,\n",
      "           39,    1,    1,   41,    0,    0,    0,   31,   70,    5,    0,    3,\n",
      "           38,   30,   19],\n",
      "        [2007, 2143,   27,  115,  272,  301,   12,   30,   22,  192,   23,   86,\n",
      "         1104,  148, 1826,  271,   15,    6,  291,  401,  104,  141,  106,    4,\n",
      "           28,   23,   78],\n",
      "        [ 160,  860,    4,    2,    2,  373,    0,    1,   43,  364,    2,    2,\n",
      "          123,   35,    4,  110,    2,    0,   32,    4,    4,   73,    2,    3,\n",
      "            1,  147,   45]], dtype=torch.int32)\n"
     ]
    }
   ],
   "source": [
    "C = torch.zeros((27,27), dtype=torch.int32)\n",
    "for k,v in bigram_count.items():\n",
    "    C[stoi[k[0]], stoi[k[1]]] = v\n",
    "\n",
    "print(C)"
   ]
  },
  {
   "cell_type": "code",
   "execution_count": 75,
   "id": "4c5bf813-6f43-4a1a-8598-203a2dbb6f67",
   "metadata": {},
   "outputs": [
    {
     "data": {
      "text/plain": [
       "tensor([0.0000, 0.1377, 0.0408, 0.0481, 0.0528, 0.0478, 0.0130, 0.0209, 0.0273,\n",
       "        0.0184, 0.0756, 0.0925, 0.0491, 0.0792, 0.0358, 0.0123, 0.0161, 0.0029,\n",
       "        0.0512, 0.0642, 0.0408, 0.0024, 0.0117, 0.0096, 0.0042, 0.0167, 0.0290])"
      ]
     },
     "execution_count": 75,
     "metadata": {},
     "output_type": "execute_result"
    }
   ],
   "source": [
    "p = C[0].float()\n",
    "p = p / p.sum()\n",
    "p"
   ]
  },
  {
   "cell_type": "code",
   "execution_count": 76,
   "id": "93b7160c-80c3-45da-83d7-aff5ef3a8e75",
   "metadata": {},
   "outputs": [
    {
     "data": {
      "text/plain": [
       "'j'"
      ]
     },
     "execution_count": 76,
     "metadata": {},
     "output_type": "execute_result"
    }
   ],
   "source": [
    "g = torch.Generator().manual_seed(2147483647)\n",
    "ix = torch.multinomial(p, num_samples=1, replacement=True, generator=g).item()\n",
    "itos[ix]"
   ]
  },
  {
   "cell_type": "code",
   "execution_count": 77,
   "id": "472bd94d-4ce0-4a14-9500-d6a19d53e20f",
   "metadata": {},
   "outputs": [
    {
     "name": "stdout",
     "output_type": "stream",
     "text": [
      "tensor([3.1192e-05, 1.3759e-01, 4.0767e-02, 4.8129e-02, 5.2745e-02, 4.7785e-02,\n",
      "        1.3038e-02, 2.0898e-02, 2.7293e-02, 1.8465e-02, 7.5577e-02, 9.2452e-02,\n",
      "        4.9064e-02, 7.9195e-02, 3.5777e-02, 1.2321e-02, 1.6095e-02, 2.9008e-03,\n",
      "        5.1154e-02, 6.4130e-02, 4.0830e-02, 2.4641e-03, 1.1759e-02, 9.6070e-03,\n",
      "        4.2109e-03, 1.6719e-02, 2.9008e-02])\n"
     ]
    }
   ],
   "source": [
    "P = (C+1).float()\n",
    "P /= P.sum(1, keepdims=True)\n",
    "print(P[0])"
   ]
  },
  {
   "cell_type": "code",
   "execution_count": 78,
   "id": "d97b4df2-9c2e-4435-a465-261610932a96",
   "metadata": {},
   "outputs": [
    {
     "name": "stdout",
     "output_type": "stream",
     "text": [
      "junide.\n",
      "janasah.\n",
      "p.\n",
      "cony.\n",
      "a.\n"
     ]
    }
   ],
   "source": [
    "g = torch.Generator().manual_seed(2147483647)\n",
    "\n",
    "for i in range(5):\n",
    "    out = []\n",
    "    ix = 0\n",
    "    while True:\n",
    "        p = P[ix]\n",
    "        ix = torch.multinomial(p, num_samples=1, replacement=True, generator=g).item()\n",
    "        out.append(itos[ix])\n",
    "        if ix==0:\n",
    "            break\n",
    "    print(''.join(out))"
   ]
  },
  {
   "cell_type": "code",
   "execution_count": 79,
   "id": "d33c8ee9-7476-411d-a243-b40c766fa460",
   "metadata": {},
   "outputs": [
    {
     "name": "stdout",
     "output_type": "stream",
     "text": [
      "log_likelihood=tensor(-559951.5625)\n",
      "nll=tensor(559951.5625)\n",
      "2.4543561935424805\n"
     ]
    }
   ],
   "source": [
    "log_likelihood = 0.0\n",
    "n = 0\n",
    "\n",
    "for w in words:\n",
    "#for w in [\"swapan\"]:\n",
    "  chs = ['.'] + list(w) + ['.']\n",
    "  for ch1, ch2 in zip(chs, chs[1:]):\n",
    "    ix1 = stoi[ch1]\n",
    "    ix2 = stoi[ch2]\n",
    "    prob = P[ix1, ix2]\n",
    "    logprob = torch.log(prob)\n",
    "    log_likelihood += logprob\n",
    "    n += 1\n",
    "    #print(f'{ch1}{ch2}: {prob:.4f} {logprob:.4f}')\n",
    "\n",
    "print(f'{log_likelihood=}')\n",
    "nll = -log_likelihood\n",
    "print(f'{nll=}')\n",
    "print(f'{nll/n}')"
   ]
  },
  {
   "cell_type": "markdown",
   "id": "f58835e7-1323-4bb0-bea8-05693489bbfe",
   "metadata": {},
   "source": [
    "----------------------------------------------------------------------------------------------------"
   ]
  },
  {
   "cell_type": "markdown",
   "id": "f03bf550-9545-4962-8c43-3ec034278676",
   "metadata": {},
   "source": [
    "## Using neural nets\n",
    "\n",
    "1. First letter of bigram is input = x, second is output = y\n",
    "2. create a NN with 27 neurons and 1 output, choose random weights\n",
    "3. feed in x, get the y. Calculate the loss\n",
    "4. back propgate loss and increase W with that gra\n",
    "5. repeat 5 times to get proper weights\n",
    "6. use the weights to predict the name"
   ]
  },
  {
   "cell_type": "code",
   "execution_count": 83,
   "id": "dc81a078-beac-4da9-890a-c9943b0504ab",
   "metadata": {},
   "outputs": [
    {
     "name": "stdout",
     "output_type": "stream",
     "text": [
      "number of examples:  228146\n"
     ]
    }
   ],
   "source": [
    "with open(\"names.txt\", 'r') as file:\n",
    "    names = file.readlines()\n",
    "\n",
    "xs = []\n",
    "ys = []\n",
    "\n",
    "for n in names:\n",
    "    n = \".\" + n.strip() + \".\"\n",
    "    for i in range(len(n.strip()) - 1):\n",
    "        xs.append(stoi[n[i]])\n",
    "        ys.append(stoi[n[i+1]])\n",
    "\n",
    "xs = torch.tensor(xs)\n",
    "ys = torch.tensor(ys)\n",
    "\n",
    "num = xs.nelement()\n",
    "print('number of examples: ', num)\n",
    "\n",
    "# initialize the 'network'\n",
    "g = torch.Generator().manual_seed(2147483647)\n",
    "W = torch.randn((27, 27), generator=g, requires_grad=True)"
   ]
  },
  {
   "cell_type": "code",
   "execution_count": 334,
   "id": "0c2c20c5-618d-4e68-a58a-a57b4671a7ac",
   "metadata": {},
   "outputs": [
    {
     "name": "stdout",
     "output_type": "stream",
     "text": [
      "2.482038736343384\n"
     ]
    }
   ],
   "source": [
    "# gradeint descent\n",
    "\n",
    "import torch.nn.functional as F\n",
    "\n",
    "\n",
    "for i in range(1):\n",
    "\n",
    "    #forward pass\n",
    "    xenc = F.one_hot(xs, num_classes=27).float()\n",
    "    logits = xenc @ W\n",
    "    counts = logits.exp()\n",
    "    probs = counts / counts.sum(1, keepdims=True)\n",
    "    loss = -probs[torch.arange(num), ys].log().mean() + 0.01*(W**2).mean()\n",
    "    print(loss.item())\n",
    "    \n",
    "\n",
    "    #backward pass\n",
    "    W.grad = None\n",
    "    loss.backward()\n",
    "\n",
    "    #update\n",
    "    W.data += -50 * W.grad\n",
    "    "
   ]
  },
  {
   "cell_type": "code",
   "execution_count": 338,
   "id": "35001781-237d-4c8b-b55c-f699b65815d3",
   "metadata": {},
   "outputs": [
    {
     "name": "stdout",
     "output_type": "stream",
     "text": [
      "junide.\n",
      "janasah.\n",
      "prelay.\n",
      "a.\n",
      "nn.\n"
     ]
    }
   ],
   "source": [
    "# finally, sample from the 'neural net' model\n",
    "g = torch.Generator().manual_seed(2147483647)\n",
    "\n",
    "for i in range(5):\n",
    "  \n",
    "  out = []\n",
    "  ix = 0\n",
    "  while True:\n",
    "    \n",
    "    # ----------\n",
    "    # BEFORE:\n",
    "    #p = P[ix]\n",
    "    # ----------\n",
    "    # NOW:\n",
    "    xenc = F.one_hot(torch.tensor([ix]), num_classes=27).float()\n",
    "    logits = xenc @ W # predict log-counts\n",
    "    counts = logits.exp() # counts, equivalent to N\n",
    "    p = counts / counts.sum(1, keepdims=True) # probabilities for next character\n",
    "    # ----------\n",
    "    \n",
    "    ix = torch.multinomial(p, num_samples=1, replacement=True, generator=g).item()\n",
    "    out.append(itos[ix])\n",
    "    if ix == 0:\n",
    "      break\n",
    "  print(''.join(out))"
   ]
  }
 ],
 "metadata": {
  "kernelspec": {
   "display_name": "Python (vnn_course_env)",
   "language": "python",
   "name": "vnn_course_env"
  },
  "language_info": {
   "codemirror_mode": {
    "name": "ipython",
    "version": 3
   },
   "file_extension": ".py",
   "mimetype": "text/x-python",
   "name": "python",
   "nbconvert_exporter": "python",
   "pygments_lexer": "ipython3",
   "version": "3.9.7"
  }
 },
 "nbformat": 4,
 "nbformat_minor": 5
}
