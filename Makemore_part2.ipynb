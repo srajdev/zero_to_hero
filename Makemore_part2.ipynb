{
 "cells": [
  {
   "cell_type": "code",
   "execution_count": 2,
   "id": "8576c935-87fc-4993-9ef1-aa01b250293a",
   "metadata": {},
   "outputs": [],
   "source": [
    "import torch\n",
    "import torch.nn.functional as F"
   ]
  },
  {
   "cell_type": "markdown",
   "id": "2e05a971-8ab0-4d3b-919b-2b6bb343af2e",
   "metadata": {},
   "source": [
    "# Goal is to create a NN to take trigrams or more\n",
    "1. Create X with input letters, create Y with output. Need to create itos and stoi\n",
    "3. Create C which is a lookup table of dimension 2\n",
    "4. Create a NN that takes that and gives our probabilities of next letter\n",
    "5. calculate loss and reduce loss"
   ]
  },
  {
   "cell_type": "code",
   "execution_count": 3,
   "id": "2e9119c3-8d0e-4707-b70a-ec33d840890c",
   "metadata": {},
   "outputs": [
    {
     "name": "stdout",
     "output_type": "stream",
     "text": [
      "['emma', 'olivia', 'ava', 'isabella', 'sophia']\n"
     ]
    }
   ],
   "source": [
    "words = open('names.txt', 'r').read().splitlines()\n",
    "print(words[:5])"
   ]
  },
  {
   "cell_type": "code",
   "execution_count": 4,
   "id": "1ed987f9-b337-4ec1-a355-ccf8fa5f6017",
   "metadata": {},
   "outputs": [],
   "source": [
    "# create itos and stoi\n",
    "chars = sorted(set(''.join(words)))\n",
    "itos = {i+1: ch for i, ch in enumerate(chars)}\n",
    "itos[0] = '.'\n",
    "stoi = {ch: i for i, ch in itos.items()}\n",
    "\n"
   ]
  },
  {
   "cell_type": "code",
   "execution_count": 30,
   "id": "05447c66",
   "metadata": {},
   "outputs": [
    {
     "name": "stdout",
     "output_type": "stream",
     "text": [
      "torch.Size([182580, 3]) torch.Size([182580])\n",
      "torch.Size([22767, 3]) torch.Size([22767])\n",
      "torch.Size([22799, 3]) torch.Size([22799])\n"
     ]
    }
   ],
   "source": [
    "import numpy as np\n",
    "# build the dataset\n",
    "block_size = 3 # context length: how many characters do we take to predict the next one?\n",
    "\n",
    "def build_dataset(words):  \n",
    "  X, Y = [], []\n",
    "  for w in words:\n",
    "\n",
    "    #print(w)\n",
    "\n",
    "    context = [0] * block_size\n",
    "    for ch in w + '.':\n",
    "      ix = stoi[ch]\n",
    "      X.append(context)\n",
    "      Y.append(ix)\n",
    "      #print(''.join(itos[i] for i in context), '--->', itos[ix])\n",
    "      context = context[1:] + [ix] # crop and append\n",
    "\n",
    "  X = torch.tensor(X)\n",
    "  Y = torch.tensor(Y)\n",
    "  print(X.shape, Y.shape)\n",
    "  return X, Y\n",
    "\n",
    "import random\n",
    "random.seed(42)\n",
    "random.shuffle(words)\n",
    "n1 = int(0.8*len(words))\n",
    "n2 = int(0.9*len(words))\n",
    "\n",
    "Xtr, Ytr = build_dataset(words[:n1])\n",
    "Xdev, Ydev = build_dataset(words[n1:n2])\n",
    "Xte, Yte = build_dataset(words[n2:])"
   ]
  },
  {
   "cell_type": "code",
   "execution_count": 34,
   "id": "2e52b930",
   "metadata": {},
   "outputs": [
    {
     "name": "stdout",
     "output_type": "stream",
     "text": [
      "17997\n"
     ]
    }
   ],
   "source": [
    "emb_size = 10\n",
    "hidden_size = 300\n",
    "\n",
    "\n",
    "g = torch.Generator().manual_seed(2147483647)\n",
    "C = torch.randn((27, emb_size), generator=g)\n",
    "W1 = torch.randn((block_size * emb_size, hidden_size),  generator=g) * ((5/3)/((block_size * emb_size)**0.5))\n",
    "#B1 = torch.randn((hidden_size), generator=g) * 0.01\n",
    "W2 = torch.randn((hidden_size, 27), generator=g) * 0.01\n",
    "B2 = torch.randn((27), generator=g) * 0\n",
    "\n",
    "bngain = torch.ones(((1, hidden_size)))\n",
    "bnbias = torch.zeros((1, hidden_size))\n",
    "\n",
    "bnmean_running = torch.zeros((1, hidden_size))\n",
    "bnstd_running = torch.ones((1, hidden_size))\n",
    "\n",
    "parameters = [C, W1, W2, B2, bngain, bnbias]\n",
    "print(sum(p.nelement() for p in parameters))\n",
    "for p in parameters:\n",
    "    p.requires_grad = True"
   ]
  },
  {
   "cell_type": "code",
   "execution_count": 35,
   "id": "95221581",
   "metadata": {},
   "outputs": [
    {
     "name": "stdout",
     "output_type": "stream",
     "text": [
      "2.061699390411377\n"
     ]
    }
   ],
   "source": [
    "batch_size = 32\n",
    "n_epochs = 200000\n",
    "\n",
    "for i in range(n_epochs):\n",
    "    # forward pass\n",
    "    #minibatch construct\n",
    "    ix = torch.randint(0, Xtr.shape[0], (batch_size,))\n",
    "\n",
    "    emb = C[Xtr[ix]]\n",
    "    embcat = emb.view(-1, block_size * emb_size)\n",
    "    #-------------batch norm----------------\n",
    "    hprev = embcat @ W1 #+ B1\n",
    "    bnmeani = hprev.mean(0, keepdim=True)\n",
    "    bnstdi = hprev.std(0, keepdim=True)\n",
    "    hprev = (hprev - bnmeani)/bnstdi\n",
    "    hprev = hprev * bngain + bnbias\n",
    "\n",
    "    with torch.no_grad():\n",
    "        bnmean_running = bnmean_running * 0.999 + bnmeani * 0.001\n",
    "        bnstd_running = bnstd_running * 0.999 + bnstdi * 0.001\n",
    "\n",
    "    h = torch.tanh(hprev)\n",
    "    #-------------------------------\n",
    "    logits = h @ W2 + B2\n",
    "    loss = F.cross_entropy(logits, Ytr[ix])\n",
    "\n",
    "\n",
    "    for p in parameters:\n",
    "        p.grad = None\n",
    "\n",
    "    loss.backward()\n",
    "    lr = 0.1 if i < (n_epochs * 0.8) else 0.01\n",
    "    for p in parameters:\n",
    "        p.data -= lr * p.grad \n",
    "print(loss.item())"
   ]
  },
  {
   "cell_type": "code",
   "execution_count": 37,
   "id": "5df7c94f",
   "metadata": {},
   "outputs": [
    {
     "name": "stdout",
     "output_type": "stream",
     "text": [
      "2.097026824951172\n"
     ]
    }
   ],
   "source": [
    "#beat xDev of 2.17 loss\n",
    "emb = C[Xdev]\n",
    "embcat = emb.view(-1, block_size * emb_size)\n",
    "hprev = embcat @ W1 #+ B1\n",
    "hprev = (hprev - bnmean_running) / bnstd_running\n",
    "hprev = hprev * bngain + bnbias\n",
    "h = torch.tanh(hprev)\n",
    "logits = h @ W2 + B2\n",
    "loss = F.cross_entropy(logits, Ydev)\n",
    "print(loss.item())"
   ]
  },
  {
   "cell_type": "code",
   "execution_count": 38,
   "id": "6b9124e3",
   "metadata": {},
   "outputs": [
    {
     "name": "stdout",
     "output_type": "stream",
     "text": [
      "2.100803852081299\n"
     ]
    }
   ],
   "source": [
    "emb = C[Xte]\n",
    "embcat = emb.view(-1, block_size * emb_size)\n",
    "hprev = embcat @ W1 #+ B1\n",
    "hprev = (hprev - bnmean_running) / bnstd_running\n",
    "hprev = hprev * bngain + bnbias\n",
    "h = torch.tanh(hprev)\n",
    "logits = h @ W2 + B2\n",
    "loss = F.cross_entropy(logits, Yte)\n",
    "print(loss.item())"
   ]
  },
  {
   "cell_type": "markdown",
   "id": "a09c68bc",
   "metadata": {},
   "source": [
    "## Below is the code to torichify the whole Linear layer along with batch norm"
   ]
  },
  {
   "cell_type": "code",
   "execution_count": null,
   "id": "f9c9f4b7",
   "metadata": {},
   "outputs": [],
   "source": [
    "class Linear:\n",
    "    def __init__(self, fan_in, fan_out, bias=True):\n",
    "        self.weight = torch.randn((fan_in, fan_out), generator=g) / (fan_in**0.5)\n",
    "        self.bias = torch.zeros((fan_out), generator=g) if bias else None\n",
    "\n",
    "    def __call__(self, x):\n",
    "        self.out = x @ self.weight\n",
    "        if self.bias is not None:\n",
    "            self.out += self.bias\n",
    "        return self.out\n",
    "    \n",
    "    def parameters(self):\n",
    "        p = self.weight + ([] if self.bias is not None else [self.bias])\n",
    "    \n",
    "\n",
    "class BatchNorm1d:\n",
    "    def __init__(self, dim, esp=1e-5, momentum=0.1):\n",
    "        self.esp = esp\n",
    "        self.momentum = momentum\n",
    "        self.training = True\n",
    "        # running mean to keep track of things\n",
    "        self.mean_running = torch.zeros(1,dim)\n",
    "        self.std_running = torch.ones(1, dim)\n",
    "        # paramaters for normalization\n",
    "        self.bngain = torch.ones(1, dim)\n",
    "        self.bnbias = torch.zeros(1, dim)\n",
    "\n",
    "        def __call__(self, x):\n",
    "            \n",
    "            \n"
   ]
  }
 ],
 "metadata": {
  "kernelspec": {
   "display_name": "vnn_course_env",
   "language": "python",
   "name": "python3"
  },
  "language_info": {
   "codemirror_mode": {
    "name": "ipython",
    "version": 3
   },
   "file_extension": ".py",
   "mimetype": "text/x-python",
   "name": "python",
   "nbconvert_exporter": "python",
   "pygments_lexer": "ipython3",
   "version": "3.9.7"
  }
 },
 "nbformat": 4,
 "nbformat_minor": 5
}
