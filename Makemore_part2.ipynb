{
 "cells": [
  {
   "cell_type": "code",
   "execution_count": 2,
   "id": "8576c935-87fc-4993-9ef1-aa01b250293a",
   "metadata": {},
   "outputs": [],
   "source": [
    "import torch\n",
    "import torch.nn.functional as F"
   ]
  },
  {
   "cell_type": "markdown",
   "id": "2e05a971-8ab0-4d3b-919b-2b6bb343af2e",
   "metadata": {},
   "source": [
    "# Goal is to create a NN to take trigrams or more\n",
    "1. Create X with input letters, create Y with output. Need to create itos and stoi\n",
    "3. Create C which is a lookup table of dimension 2\n",
    "4. Create a NN that takes that and gives our probabilities of next letter\n",
    "5. calculate loss and reduce loss"
   ]
  },
  {
   "cell_type": "code",
   "execution_count": 3,
   "id": "2e9119c3-8d0e-4707-b70a-ec33d840890c",
   "metadata": {},
   "outputs": [
    {
     "name": "stdout",
     "output_type": "stream",
     "text": [
      "['emma', 'olivia', 'ava', 'isabella', 'sophia']\n"
     ]
    }
   ],
   "source": [
    "words = open('names.txt', 'r').read().splitlines()\n",
    "print(words[:5])"
   ]
  },
  {
   "cell_type": "code",
   "execution_count": 4,
   "id": "1ed987f9-b337-4ec1-a355-ccf8fa5f6017",
   "metadata": {},
   "outputs": [],
   "source": [
    "# create itos and stoi\n",
    "chars = sorted(set(''.join(words)))\n",
    "itos = {i+1: ch for i, ch in enumerate(chars)}\n",
    "itos[0] = '.'\n",
    "stoi = {ch: i for i, ch in itos.items()}\n",
    "\n"
   ]
  },
  {
   "cell_type": "code",
   "execution_count": 5,
   "id": "05447c66",
   "metadata": {},
   "outputs": [
    {
     "name": "stdout",
     "output_type": "stream",
     "text": [
      "torch.Size([182625, 3]) torch.Size([182625])\n",
      "torch.Size([22655, 3]) torch.Size([22655])\n",
      "torch.Size([22866, 3]) torch.Size([22866])\n"
     ]
    }
   ],
   "source": [
    "import numpy as np\n",
    "# build the dataset\n",
    "block_size = 3 # context length: how many characters do we take to predict the next one?\n",
    "\n",
    "def build_dataset(words):  \n",
    "  X, Y = [], []\n",
    "  for w in words:\n",
    "\n",
    "    #print(w)\n",
    "\n",
    "    context = [0] * block_size\n",
    "    for ch in w + '.':\n",
    "      ix = stoi[ch]\n",
    "      X.append(context)\n",
    "      Y.append(ix)\n",
    "      #print(''.join(itos[i] for i in context), '--->', itos[ix])\n",
    "      context = context[1:] + [ix] # crop and append\n",
    "\n",
    "  X = torch.tensor(X)\n",
    "  Y = torch.tensor(Y)\n",
    "  print(X.shape, Y.shape)\n",
    "  return X, Y\n",
    "\n",
    "import random\n",
    "random.seed(42)\n",
    "random.shuffle(words)\n",
    "n1 = int(0.8*len(words))\n",
    "n2 = int(0.9*len(words))\n",
    "\n",
    "Xtr, Ytr = build_dataset(words[:n1])\n",
    "Xdev, Ydev = build_dataset(words[n1:n2])\n",
    "Xte, Yte = build_dataset(words[n2:])"
   ]
  },
  {
   "cell_type": "code",
   "execution_count": 22,
   "id": "2e52b930",
   "metadata": {},
   "outputs": [
    {
     "name": "stdout",
     "output_type": "stream",
     "text": [
      "18297\n"
     ]
    }
   ],
   "source": [
    "emb_size = 10\n",
    "hidden_size = 300\n",
    "\n",
    "\n",
    "g = torch.Generator().manual_seed(2147483647)\n",
    "C = torch.randn((27, emb_size), generator=g)\n",
    "W1 = torch.randn((block_size * emb_size, hidden_size),  generator=g) * ((5/3)/((block_size * emb_size)**0.5))\n",
    "B1 = torch.randn((hidden_size), generator=g) * 0.01\n",
    "W2 = torch.randn((hidden_size, 27), generator=g) * 0.01\n",
    "B2 = torch.randn((27), generator=g) * 0\n",
    "\n",
    "bngain = torch.ones(((1, hidden_size)))\n",
    "bnbias = torch.zeros((1, hidden_size))\n",
    "\n",
    "parameters = [C, W1, B1, W2, B2, bngain, bnbias]\n",
    "print(sum(p.nelement() for p in parameters))\n",
    "for p in parameters:\n",
    "    p.requires_grad = True"
   ]
  },
  {
   "cell_type": "code",
   "execution_count": 23,
   "id": "95221581",
   "metadata": {},
   "outputs": [
    {
     "name": "stdout",
     "output_type": "stream",
     "text": [
      "2.004560947418213\n"
     ]
    }
   ],
   "source": [
    "batch_size = 32\n",
    "n_epochs = 200000\n",
    "\n",
    "for i in range(n_epochs):\n",
    "    # forward pass\n",
    "    #minibatch construct\n",
    "    ix = torch.randint(0, Xtr.shape[0], (batch_size,))\n",
    "\n",
    "    emb = C[Xtr[ix]]\n",
    "    embcat = emb.view(-1, block_size * emb_size)\n",
    "    hprev = embcat @ W1 + B1\n",
    "    hprev = (hprev - hprev.mean(0, keepdim=True))/hprev.std(0, keepdim=True)\n",
    "    hprev = hprev * bngain + bnbias\n",
    "    h = torch.tanh(hprev)\n",
    "    logits = h @ W2 + B2\n",
    "    loss = F.cross_entropy(logits, Ytr[ix])\n",
    "    #if i % 1000 == 0:\n",
    "    #    print(f\"{i} --> {loss.item()}\")\n",
    "              \n",
    "    for p in parameters:\n",
    "        p.grad = None\n",
    "\n",
    "    loss.backward()\n",
    "    lr = 0.1 if i < (n_epochs * 0.8) else 0.01\n",
    "    for p in parameters:\n",
    "        p.data -= lr * p.grad \n",
    "print(loss.item())"
   ]
  },
  {
   "cell_type": "code",
   "execution_count": 24,
   "id": "5df7c94f",
   "metadata": {},
   "outputs": [
    {
     "name": "stdout",
     "output_type": "stream",
     "text": [
      "2.093022108078003\n"
     ]
    }
   ],
   "source": [
    "#beat xDev of 2.17 loss\n",
    "emb = C[Xdev]\n",
    "embcat = emb.view(-1, block_size * emb_size)\n",
    "hprev = embcat @ W1 + B1\n",
    "hprev = (hprev - hprev.mean(0, keepdim=True))/hprev.std(0, keepdim=True)\n",
    "hprev = hprev * bngain + bnbias\n",
    "h = torch.tanh(hprev)\n",
    "logits = h @ W2 + B2\n",
    "loss = F.cross_entropy(logits, Ydev)\n",
    "print(loss.item())"
   ]
  },
  {
   "cell_type": "code",
   "execution_count": 247,
   "id": "6b9124e3",
   "metadata": {},
   "outputs": [
    {
     "name": "stdout",
     "output_type": "stream",
     "text": [
      "2.3086841106414795\n"
     ]
    }
   ],
   "source": [
    "emb = C[Xte]\n",
    "embcat = emb.view(-1, block_size * emb_size)\n",
    "hprev = embcat @ W1 + B1\n",
    "hprev = (hprev - hprev.mean(0, keepdim=True))/hprev.std(0, keepdim=True)\n",
    "hprev = hprev * bngain + bnbias\n",
    "h = torch.tanh(hprev)\n",
    "logits = h @ W2 + B2\n",
    "loss = F.cross_entropy(logits, Yte)\n",
    "print(loss.item())"
   ]
  }
 ],
 "metadata": {
  "kernelspec": {
   "display_name": "vnn_course_env",
   "language": "python",
   "name": "python3"
  },
  "language_info": {
   "codemirror_mode": {
    "name": "ipython",
    "version": 3
   },
   "file_extension": ".py",
   "mimetype": "text/x-python",
   "name": "python",
   "nbconvert_exporter": "python",
   "pygments_lexer": "ipython3",
   "version": "3.9.7"
  }
 },
 "nbformat": 4,
 "nbformat_minor": 5
}
